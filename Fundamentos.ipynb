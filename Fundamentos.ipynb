{
 "cells": [
  {
   "cell_type": "markdown",
   "id": "33334f5f",
   "metadata": {},
   "source": [
    "# Python distingue entre mayusculas y minusculas"
   ]
  },
  {
   "cell_type": "code",
   "execution_count": 2,
   "id": "fc97cb0a",
   "metadata": {},
   "outputs": [
    {
     "name": "stdout",
     "output_type": "stream",
     "text": [
      "el curso es:  curso de backend Python\n"
     ]
    }
   ],
   "source": [
    "A = \"curso de backend Python\"\n",
    "print (\"el curso es: \" , A)"
   ]
  },
  {
   "cell_type": "code",
   "execution_count": 3,
   "id": "b77b4705",
   "metadata": {},
   "outputs": [
    {
     "ename": "NameError",
     "evalue": "name 'a' is not defined",
     "output_type": "error",
     "traceback": [
      "\u001b[1;31m---------------------------------------------------------------------------\u001b[0m",
      "\u001b[1;31mNameError\u001b[0m                                 Traceback (most recent call last)",
      "Cell \u001b[1;32mIn[3], line 2\u001b[0m\n\u001b[0;32m      1\u001b[0m A \u001b[38;5;241m=\u001b[39m \u001b[38;5;124m\"\u001b[39m\u001b[38;5;124mcurso de backend Python\u001b[39m\u001b[38;5;124m\"\u001b[39m\n\u001b[1;32m----> 2\u001b[0m \u001b[38;5;28mprint\u001b[39m (\u001b[38;5;124m\"\u001b[39m\u001b[38;5;124mel curso es: \u001b[39m\u001b[38;5;124m\"\u001b[39m , \u001b[43ma\u001b[49m)\n",
      "\u001b[1;31mNameError\u001b[0m: name 'a' is not defined"
     ]
    }
   ],
   "source": [
    "A = \"curso de backend Python\"\n",
    "print (\"el curso es: \" , a)"
   ]
  },
  {
   "cell_type": "code",
   "execution_count": 4,
   "id": "f73d72b2",
   "metadata": {},
   "outputs": [
    {
     "name": "stdout",
     "output_type": "stream",
     "text": [
      "el curso es:  curso de backend Python\n"
     ]
    }
   ],
   "source": [
    "a = \"curso de backend Python\"\n",
    "print (\"el curso es: \" , a)"
   ]
  },
  {
   "cell_type": "markdown",
   "id": "d5292221",
   "metadata": {},
   "source": [
    "## palabras reservadas en python"
   ]
  },
  {
   "cell_type": "code",
   "execution_count": 1,
   "id": "6b0fef43",
   "metadata": {},
   "outputs": [
    {
     "name": "stdout",
     "output_type": "stream",
     "text": [
      "\n",
      "Here is a list of the Python keywords.  Enter any keyword to get more help.\n",
      "\n",
      "False               class               from                or\n",
      "None                continue            global              pass\n",
      "True                def                 if                  raise\n",
      "and                 del                 import              return\n",
      "as                  elif                in                  try\n",
      "assert              else                is                  while\n",
      "async               except              lambda              with\n",
      "await               finally             nonlocal            yield\n",
      "break               for                 not                 \n",
      "\n"
     ]
    }
   ],
   "source": [
    "help (\"keywords\")"
   ]
  },
  {
   "cell_type": "markdown",
   "id": "debb24ac",
   "metadata": {},
   "source": [
    "## caracteres de Escape en python"
   ]
  },
  {
   "cell_type": "code",
   "execution_count": 3,
   "id": "d5fb32c3",
   "metadata": {},
   "outputs": [
    {
     "data": {
      "text/plain": [
       "\"'\""
      ]
     },
     "execution_count": 3,
     "metadata": {},
     "output_type": "execute_result"
    }
   ],
   "source": [
    "\"\\'\"#single quote/ comillas sencilla"
   ]
  },
  {
   "cell_type": "code",
   "execution_count": 1,
   "id": "6602c894",
   "metadata": {},
   "outputs": [
    {
     "data": {
      "text/plain": [
       "\"'\""
      ]
     },
     "execution_count": 1,
     "metadata": {},
     "output_type": "execute_result"
    }
   ],
   "source": [
    "\"'\""
   ]
  },
  {
   "cell_type": "code",
   "execution_count": 2,
   "id": "9e5ea708",
   "metadata": {},
   "outputs": [
    {
     "data": {
      "text/plain": [
       "\"'\""
      ]
     },
     "execution_count": 2,
     "metadata": {},
     "output_type": "execute_result"
    }
   ],
   "source": [
    "'\\''#así marca error '''"
   ]
  },
  {
   "cell_type": "code",
   "execution_count": 4,
   "id": "6420c79e",
   "metadata": {},
   "outputs": [
    {
     "data": {
      "text/plain": [
       "'\"'"
      ]
     },
     "execution_count": 4,
     "metadata": {},
     "output_type": "execute_result"
    }
   ],
   "source": [
    "\"\\\"\" #double quote/comilla doble"
   ]
  },
  {
   "cell_type": "code",
   "execution_count": 5,
   "id": "5d36a21b",
   "metadata": {},
   "outputs": [
    {
     "data": {
      "text/plain": [
       "'\\n'"
      ]
     },
     "execution_count": 5,
     "metadata": {},
     "output_type": "execute_result"
    }
   ],
   "source": [
    "\"\\n\" #new line / salto de linea"
   ]
  },
  {
   "cell_type": "code",
   "execution_count": 6,
   "id": "ecef69a9",
   "metadata": {},
   "outputs": [
    {
     "name": "stdout",
     "output_type": "stream",
     "text": [
      "Backend Python de EBAC\n"
     ]
    }
   ],
   "source": [
    "my_course = \"Backend Python de EBAC\"\n",
    "print(my_course)"
   ]
  },
  {
   "cell_type": "code",
   "execution_count": 8,
   "id": "22a59158",
   "metadata": {},
   "outputs": [
    {
     "name": "stdout",
     "output_type": "stream",
     "text": [
      "Backend Python\n",
      "de EBAC\n"
     ]
    }
   ],
   "source": [
    "my_course = \"Backend Python\\nde EBAC\"\n",
    "print(my_course)"
   ]
  },
  {
   "cell_type": "code",
   "execution_count": 9,
   "id": "b0f428c7",
   "metadata": {},
   "outputs": [
    {
     "name": "stdout",
     "output_type": "stream",
     "text": [
      "Backend\n",
      "Python\n",
      "de EBAC\n"
     ]
    }
   ],
   "source": [
    "my_course = \"Backend\\nPython\\nde EBAC\"\n",
    "print(my_course)"
   ]
  },
  {
   "cell_type": "code",
   "execution_count": 10,
   "id": "94314e63",
   "metadata": {},
   "outputs": [
    {
     "data": {
      "text/plain": [
       "'\\t'"
      ]
     },
     "execution_count": 10,
     "metadata": {},
     "output_type": "execute_result"
    }
   ],
   "source": [
    "\"\\t\" #Tab"
   ]
  },
  {
   "cell_type": "code",
   "execution_count": 11,
   "id": "c073f343",
   "metadata": {},
   "outputs": [
    {
     "name": "stdout",
     "output_type": "stream",
     "text": [
      "Backend Python de EBAC\n"
     ]
    }
   ],
   "source": [
    "my_course = \"Backend Python de EBAC\"\n",
    "print(my_course)"
   ]
  },
  {
   "cell_type": "code",
   "execution_count": 12,
   "id": "5d85e355",
   "metadata": {},
   "outputs": [
    {
     "name": "stdout",
     "output_type": "stream",
     "text": [
      "Backend Python\tde EBAC\n"
     ]
    }
   ],
   "source": [
    "my_course = \"Backend Python\\tde EBAC\"\n",
    "print(my_course)"
   ]
  },
  {
   "cell_type": "code",
   "execution_count": 15,
   "id": "5818bb6f",
   "metadata": {},
   "outputs": [
    {
     "name": "stdout",
     "output_type": "stream",
     "text": [
      "Backend\t\tPython\t\tde EBAC\n"
     ]
    }
   ],
   "source": [
    "my_course = \"Backend\\t\\tPython\\t\\tde EBAC\"\n",
    "print(my_course)"
   ]
  },
  {
   "cell_type": "code",
   "execution_count": 16,
   "id": "9bfbbacb",
   "metadata": {},
   "outputs": [
    {
     "data": {
      "text/plain": [
       "'\\r'"
      ]
     },
     "execution_count": 16,
     "metadata": {},
     "output_type": "execute_result"
    }
   ],
   "source": [
    "\"\\r\" #carriage return / retorno de carro"
   ]
  },
  {
   "cell_type": "code",
   "execution_count": 17,
   "id": "f7139d69",
   "metadata": {},
   "outputs": [
    {
     "name": "stdout",
     "output_type": "stream",
     "text": [
      "Backend\r",
      "Python de EBAC\n"
     ]
    }
   ],
   "source": [
    "my_course = \"Backend\\rPython de EBAC\"\n",
    "print(my_course)"
   ]
  },
  {
   "cell_type": "code",
   "execution_count": 18,
   "id": "b4edeed2",
   "metadata": {},
   "outputs": [
    {
     "name": "stdout",
     "output_type": "stream",
     "text": [
      "Backend\r",
      "Python\r",
      "de EBAC\n"
     ]
    }
   ],
   "source": [
    "my_course = \"Backend\\rPython\\rde EBAC\"\n",
    "print(my_course)"
   ]
  },
  {
   "cell_type": "code",
   "execution_count": 19,
   "id": "958f4cab",
   "metadata": {},
   "outputs": [
    {
     "data": {
      "text/plain": [
       "'\\x08'"
      ]
     },
     "execution_count": 19,
     "metadata": {},
     "output_type": "execute_result"
    }
   ],
   "source": [
    "\"\\b\" #backspacve / retorno"
   ]
  },
  {
   "cell_type": "code",
   "execution_count": 20,
   "id": "f307abfb",
   "metadata": {},
   "outputs": [
    {
     "name": "stdout",
     "output_type": "stream",
     "text": [
      "Backend\bPython de EBAC\n"
     ]
    }
   ],
   "source": [
    "my_course = \"Backend\\bPython de EBAC\"\n",
    "#elimina el caracter previo en este caso la \"d\"\n",
    "print(my_course)"
   ]
  },
  {
   "cell_type": "code",
   "execution_count": 21,
   "id": "455f80a9",
   "metadata": {},
   "outputs": [
    {
     "data": {
      "text/plain": [
       "'\\\\ooo'"
      ]
     },
     "execution_count": 21,
     "metadata": {},
     "output_type": "execute_result"
    }
   ],
   "source": [
    "\"\\ooo\" #Octal"
   ]
  },
  {
   "cell_type": "code",
   "execution_count": 23,
   "id": "113f445e",
   "metadata": {},
   "outputs": [
    {
     "name": "stdout",
     "output_type": "stream",
     "text": [
      "Hola\n"
     ]
    }
   ],
   "source": [
    "hello_spanish_octal = \"\\110\\157\\154\\141\"\n",
    "print(hello_spanish_octal)"
   ]
  },
  {
   "cell_type": "code",
   "execution_count": 25,
   "id": "54f64dbd",
   "metadata": {},
   "outputs": [],
   "source": [
    "#\"\\xhh\" #Hexadecimal"
   ]
  },
  {
   "cell_type": "code",
   "execution_count": 26,
   "id": "1728bdd9",
   "metadata": {},
   "outputs": [
    {
     "name": "stdout",
     "output_type": "stream",
     "text": [
      "Hola\n"
     ]
    }
   ],
   "source": [
    "hello_spanish_hex = \"\\x48\\x6f\\x6c\\x61\"\n",
    "print(hello_spanish_hex)"
   ]
  },
  {
   "cell_type": "markdown",
   "id": "d54913fb",
   "metadata": {},
   "source": [
    "## Funcion eval()"
   ]
  },
  {
   "cell_type": "code",
   "execution_count": 27,
   "id": "feb87b23",
   "metadata": {},
   "outputs": [
    {
     "name": "stdout",
     "output_type": "stream",
     "text": [
      "my_number + 1000\n"
     ]
    }
   ],
   "source": [
    "my_number = 22\n",
    "print(\"my_number + 1000\")"
   ]
  },
  {
   "cell_type": "code",
   "execution_count": 29,
   "id": "e21df758",
   "metadata": {},
   "outputs": [
    {
     "name": "stdout",
     "output_type": "stream",
     "text": [
      "1022\n"
     ]
    }
   ],
   "source": [
    "my_number = 22\n",
    "print(eval(\"my_number + 1000\"))"
   ]
  },
  {
   "cell_type": "code",
   "execution_count": 30,
   "id": "419fc71f",
   "metadata": {},
   "outputs": [
    {
     "name": "stdout",
     "output_type": "stream",
     "text": [
      "ingresa un numero: 123\n"
     ]
    }
   ],
   "source": [
    "my_input = input(\"ingresa un numero: \")"
   ]
  },
  {
   "cell_type": "code",
   "execution_count": 32,
   "id": "64c0c8c0",
   "metadata": {},
   "outputs": [
    {
     "data": {
      "text/plain": [
       "'123'"
      ]
     },
     "execution_count": 32,
     "metadata": {},
     "output_type": "execute_result"
    }
   ],
   "source": [
    "my_input"
   ]
  },
  {
   "cell_type": "code",
   "execution_count": 33,
   "id": "49e7f88f",
   "metadata": {},
   "outputs": [
    {
     "data": {
      "text/plain": [
       "123"
      ]
     },
     "execution_count": 33,
     "metadata": {},
     "output_type": "execute_result"
    }
   ],
   "source": [
    "eval(my_input)"
   ]
  },
  {
   "cell_type": "code",
   "execution_count": 35,
   "id": "1bc27e6b",
   "metadata": {},
   "outputs": [
    {
     "name": "stdout",
     "output_type": "stream",
     "text": [
      "ingresa un numero: 345\n",
      "345\n",
      "<class 'str'>\n"
     ]
    }
   ],
   "source": [
    "my_input = input(\"ingresa un numero: \")\n",
    "print(my_input)\n",
    "print(type(my_input))\n",
    "# Cadena / String"
   ]
  },
  {
   "cell_type": "code",
   "execution_count": 36,
   "id": "146dc06d",
   "metadata": {},
   "outputs": [
    {
     "name": "stdout",
     "output_type": "stream",
     "text": [
      "ingresa un numero: 123\n",
      "123\n",
      "<class 'int'>\n"
     ]
    }
   ],
   "source": [
    "my_input = eval(input(\"ingresa un numero: \"))\n",
    "print(my_input)\n",
    "print(type(my_input))\n",
    "# Entero / Int"
   ]
  },
  {
   "cell_type": "markdown",
   "id": "aa317eaa",
   "metadata": {},
   "source": [
    "## Funcion range() y xrange()"
   ]
  },
  {
   "cell_type": "markdown",
   "id": "2c73ca5a",
   "metadata": {},
   "source": [
    "#### range(start, stop, step)"
   ]
  },
  {
   "cell_type": "code",
   "execution_count": null,
   "id": "76051176",
   "metadata": {},
   "outputs": [],
   "source": [
    "x = range(10)"
   ]
  },
  {
   "cell_type": "code",
   "execution_count": 38,
   "id": "a0776d29",
   "metadata": {},
   "outputs": [
    {
     "data": {
      "text/plain": [
       "range(0, 10)"
      ]
     },
     "execution_count": 38,
     "metadata": {},
     "output_type": "execute_result"
    }
   ],
   "source": [
    "x"
   ]
  },
  {
   "cell_type": "code",
   "execution_count": 40,
   "id": "a3ff67df",
   "metadata": {},
   "outputs": [
    {
     "name": "stdout",
     "output_type": "stream",
     "text": [
      "0\n",
      "1\n",
      "2\n",
      "3\n",
      "4\n",
      "5\n",
      "6\n",
      "7\n",
      "8\n",
      "9\n"
     ]
    }
   ],
   "source": [
    "for number in x:\n",
    "    print(number)"
   ]
  },
  {
   "cell_type": "code",
   "execution_count": 43,
   "id": "a0e3d7f0",
   "metadata": {},
   "outputs": [
    {
     "name": "stdout",
     "output_type": "stream",
     "text": [
      "3\n",
      "4\n",
      "5\n"
     ]
    }
   ],
   "source": [
    "x = range (3,6)\n",
    "for number in x:\n",
    "    print(number)"
   ]
  },
  {
   "cell_type": "code",
   "execution_count": 45,
   "id": "87e38555",
   "metadata": {},
   "outputs": [
    {
     "name": "stdout",
     "output_type": "stream",
     "text": [
      "3\n",
      "5\n",
      "7\n",
      "9\n",
      "11\n",
      "13\n",
      "15\n",
      "17\n",
      "19\n"
     ]
    }
   ],
   "source": [
    "x = range(3,20,2)\n",
    "for number in x:\n",
    "    print(number)"
   ]
  },
  {
   "cell_type": "markdown",
   "id": "dcc81d00",
   "metadata": {},
   "source": [
    "## Mutabilidad e Inmutabilidad"
   ]
  },
  {
   "cell_type": "code",
   "execution_count": 46,
   "id": "cd85c3a6",
   "metadata": {},
   "outputs": [],
   "source": [
    "tuple1 = (1,2,3,4,5)"
   ]
  },
  {
   "cell_type": "code",
   "execution_count": 47,
   "id": "8104ec66",
   "metadata": {},
   "outputs": [
    {
     "data": {
      "text/plain": [
       "(1, 2, 3, 4, 5)"
      ]
     },
     "execution_count": 47,
     "metadata": {},
     "output_type": "execute_result"
    }
   ],
   "source": [
    "tuple1"
   ]
  },
  {
   "cell_type": "code",
   "execution_count": 49,
   "id": "c9a4ed7b",
   "metadata": {},
   "outputs": [
    {
     "ename": "TypeError",
     "evalue": "'tuple' object does not support item assignment",
     "output_type": "error",
     "traceback": [
      "\u001b[1;31m---------------------------------------------------------------------------\u001b[0m",
      "\u001b[1;31mTypeError\u001b[0m                                 Traceback (most recent call last)",
      "Cell \u001b[1;32mIn[49], line 2\u001b[0m\n\u001b[0;32m      1\u001b[0m \u001b[38;5;66;03m#Inmutabilidad\u001b[39;00m\n\u001b[1;32m----> 2\u001b[0m tuple1[\u001b[38;5;241m0\u001b[39m] \u001b[38;5;241m=\u001b[39m \u001b[38;5;241m10\u001b[39m\n",
      "\u001b[1;31mTypeError\u001b[0m: 'tuple' object does not support item assignment"
     ]
    }
   ],
   "source": [
    "#Inmutabilidad\n",
    "tuple1[0] = 10"
   ]
  },
  {
   "cell_type": "code",
   "execution_count": 50,
   "id": "61f77bb9",
   "metadata": {},
   "outputs": [],
   "source": [
    "my_string = 'Aprendiendo sobre inmutabilidad'"
   ]
  },
  {
   "cell_type": "code",
   "execution_count": 51,
   "id": "284c0e30",
   "metadata": {},
   "outputs": [
    {
     "data": {
      "text/plain": [
       "'Aprendiendo sobre inmutabilidad'"
      ]
     },
     "execution_count": 51,
     "metadata": {},
     "output_type": "execute_result"
    }
   ],
   "source": [
    "my_string"
   ]
  },
  {
   "cell_type": "code",
   "execution_count": 52,
   "id": "6d18432d",
   "metadata": {},
   "outputs": [
    {
     "ename": "TypeError",
     "evalue": "'str' object does not support item assignment",
     "output_type": "error",
     "traceback": [
      "\u001b[1;31m---------------------------------------------------------------------------\u001b[0m",
      "\u001b[1;31mTypeError\u001b[0m                                 Traceback (most recent call last)",
      "Cell \u001b[1;32mIn[52], line 1\u001b[0m\n\u001b[1;32m----> 1\u001b[0m my_string[\u001b[38;5;241m0\u001b[39m] \u001b[38;5;241m=\u001b[39m \u001b[38;5;124m\"\u001b[39m\u001b[38;5;124mE\u001b[39m\u001b[38;5;124m\"\u001b[39m\n",
      "\u001b[1;31mTypeError\u001b[0m: 'str' object does not support item assignment"
     ]
    }
   ],
   "source": [
    "my_string[0] = \"E\""
   ]
  },
  {
   "cell_type": "code",
   "execution_count": 53,
   "id": "b75bba39",
   "metadata": {},
   "outputs": [],
   "source": [
    "#Existen otros procesos o funciones para realizar transfomraciones sobre este tipo de elementos"
   ]
  },
  {
   "cell_type": "code",
   "execution_count": 54,
   "id": "8ca66bab",
   "metadata": {},
   "outputs": [],
   "source": [
    "colors = [\"rojo\", \"azul\", \"verde\", \"negro\"]"
   ]
  },
  {
   "cell_type": "code",
   "execution_count": 55,
   "id": "eb7b8ca1",
   "metadata": {},
   "outputs": [
    {
     "data": {
      "text/plain": [
       "['rojo', 'azul', 'verde', 'negro']"
      ]
     },
     "execution_count": 55,
     "metadata": {},
     "output_type": "execute_result"
    }
   ],
   "source": [
    "colors"
   ]
  },
  {
   "cell_type": "code",
   "execution_count": 56,
   "id": "8650928d",
   "metadata": {},
   "outputs": [],
   "source": [
    "colors [0] = \"blanco\""
   ]
  },
  {
   "cell_type": "code",
   "execution_count": 57,
   "id": "a2d2c988",
   "metadata": {},
   "outputs": [
    {
     "data": {
      "text/plain": [
       "['blanco', 'azul', 'verde', 'negro']"
      ]
     },
     "execution_count": 57,
     "metadata": {},
     "output_type": "execute_result"
    }
   ],
   "source": [
    "colors"
   ]
  },
  {
   "cell_type": "markdown",
   "id": "c66f16e9",
   "metadata": {},
   "source": [
    "## Funcion print()"
   ]
  },
  {
   "cell_type": "code",
   "execution_count": 58,
   "id": "5e0b69f8",
   "metadata": {},
   "outputs": [],
   "source": [
    "# mostrar un resultado"
   ]
  },
  {
   "cell_type": "code",
   "execution_count": 60,
   "id": "d4981e4f",
   "metadata": {},
   "outputs": [
    {
     "name": "stdout",
     "output_type": "stream",
     "text": [
      "El valor de my_variable es:  567\n"
     ]
    }
   ],
   "source": [
    "my_variable = 567\n",
    "print(\"El valor de my_variable es: \", my_variable)"
   ]
  },
  {
   "cell_type": "code",
   "execution_count": 61,
   "id": "1a3b5627",
   "metadata": {},
   "outputs": [
    {
     "name": "stdout",
     "output_type": "stream",
     "text": [
      "El valor de d es:  800\n"
     ]
    }
   ],
   "source": [
    "a=100\n",
    "b=500\n",
    "c=200\n",
    "d=a+b+c\n",
    "print(\"El valor de d es: \", d)"
   ]
  },
  {
   "cell_type": "code",
   "execution_count": 62,
   "id": "538ee0df",
   "metadata": {},
   "outputs": [],
   "source": [
    "import builtins"
   ]
  },
  {
   "cell_type": "code",
   "execution_count": 63,
   "id": "9b50fd29",
   "metadata": {},
   "outputs": [
    {
     "name": "stdout",
     "output_type": "stream",
     "text": [
      "Help on built-in function print in module builtins:\n",
      "\n",
      "print(...)\n",
      "    print(value, ..., sep=' ', end='\\n', file=sys.stdout, flush=False)\n",
      "    \n",
      "    Prints the values to a stream, or to sys.stdout by default.\n",
      "    Optional keyword arguments:\n",
      "    file:  a file-like object (stream); defaults to the current sys.stdout.\n",
      "    sep:   string inserted between values, default a space.\n",
      "    end:   string appended after the last value, default a newline.\n",
      "    flush: whether to forcibly flush the stream.\n",
      "\n"
     ]
    }
   ],
   "source": [
    "help(builtins.print)"
   ]
  },
  {
   "cell_type": "code",
   "execution_count": 64,
   "id": "4ea8c1c6",
   "metadata": {},
   "outputs": [
    {
     "name": "stdout",
     "output_type": "stream",
     "text": [
      "Help on built-in function print in module builtins:\n",
      "\n",
      "print(...)\n",
      "    print(value, ..., sep=' ', end='\\n', file=sys.stdout, flush=False)\n",
      "    \n",
      "    Prints the values to a stream, or to sys.stdout by default.\n",
      "    Optional keyword arguments:\n",
      "    file:  a file-like object (stream); defaults to the current sys.stdout.\n",
      "    sep:   string inserted between values, default a space.\n",
      "    end:   string appended after the last value, default a newline.\n",
      "    flush: whether to forcibly flush the stream.\n",
      "\n"
     ]
    }
   ],
   "source": [
    "help(print)"
   ]
  },
  {
   "cell_type": "code",
   "execution_count": 65,
   "id": "ba0b57e9",
   "metadata": {},
   "outputs": [
    {
     "data": {
      "text/plain": [
       "['ArithmeticError',\n",
       " 'AssertionError',\n",
       " 'AttributeError',\n",
       " 'BaseException',\n",
       " 'BlockingIOError',\n",
       " 'BrokenPipeError',\n",
       " 'BufferError',\n",
       " 'BytesWarning',\n",
       " 'ChildProcessError',\n",
       " 'ConnectionAbortedError',\n",
       " 'ConnectionError',\n",
       " 'ConnectionRefusedError',\n",
       " 'ConnectionResetError',\n",
       " 'DeprecationWarning',\n",
       " 'EOFError',\n",
       " 'Ellipsis',\n",
       " 'EncodingWarning',\n",
       " 'EnvironmentError',\n",
       " 'Exception',\n",
       " 'False',\n",
       " 'FileExistsError',\n",
       " 'FileNotFoundError',\n",
       " 'FloatingPointError',\n",
       " 'FutureWarning',\n",
       " 'GeneratorExit',\n",
       " 'IOError',\n",
       " 'ImportError',\n",
       " 'ImportWarning',\n",
       " 'IndentationError',\n",
       " 'IndexError',\n",
       " 'InterruptedError',\n",
       " 'IsADirectoryError',\n",
       " 'KeyError',\n",
       " 'KeyboardInterrupt',\n",
       " 'LookupError',\n",
       " 'MemoryError',\n",
       " 'ModuleNotFoundError',\n",
       " 'NameError',\n",
       " 'None',\n",
       " 'NotADirectoryError',\n",
       " 'NotImplemented',\n",
       " 'NotImplementedError',\n",
       " 'OSError',\n",
       " 'OverflowError',\n",
       " 'PendingDeprecationWarning',\n",
       " 'PermissionError',\n",
       " 'ProcessLookupError',\n",
       " 'RecursionError',\n",
       " 'ReferenceError',\n",
       " 'ResourceWarning',\n",
       " 'RuntimeError',\n",
       " 'RuntimeWarning',\n",
       " 'StopAsyncIteration',\n",
       " 'StopIteration',\n",
       " 'SyntaxError',\n",
       " 'SyntaxWarning',\n",
       " 'SystemError',\n",
       " 'SystemExit',\n",
       " 'TabError',\n",
       " 'TimeoutError',\n",
       " 'True',\n",
       " 'TypeError',\n",
       " 'UnboundLocalError',\n",
       " 'UnicodeDecodeError',\n",
       " 'UnicodeEncodeError',\n",
       " 'UnicodeError',\n",
       " 'UnicodeTranslateError',\n",
       " 'UnicodeWarning',\n",
       " 'UserWarning',\n",
       " 'ValueError',\n",
       " 'Warning',\n",
       " 'WindowsError',\n",
       " 'ZeroDivisionError',\n",
       " '__IPYTHON__',\n",
       " '__build_class__',\n",
       " '__debug__',\n",
       " '__doc__',\n",
       " '__import__',\n",
       " '__loader__',\n",
       " '__name__',\n",
       " '__package__',\n",
       " '__spec__',\n",
       " 'abs',\n",
       " 'aiter',\n",
       " 'all',\n",
       " 'anext',\n",
       " 'any',\n",
       " 'ascii',\n",
       " 'bin',\n",
       " 'bool',\n",
       " 'breakpoint',\n",
       " 'bytearray',\n",
       " 'bytes',\n",
       " 'callable',\n",
       " 'chr',\n",
       " 'classmethod',\n",
       " 'compile',\n",
       " 'complex',\n",
       " 'copyright',\n",
       " 'credits',\n",
       " 'delattr',\n",
       " 'dict',\n",
       " 'dir',\n",
       " 'display',\n",
       " 'divmod',\n",
       " 'enumerate',\n",
       " 'eval',\n",
       " 'exec',\n",
       " 'execfile',\n",
       " 'filter',\n",
       " 'float',\n",
       " 'format',\n",
       " 'frozenset',\n",
       " 'get_ipython',\n",
       " 'getattr',\n",
       " 'globals',\n",
       " 'hasattr',\n",
       " 'hash',\n",
       " 'help',\n",
       " 'hex',\n",
       " 'id',\n",
       " 'input',\n",
       " 'int',\n",
       " 'isinstance',\n",
       " 'issubclass',\n",
       " 'iter',\n",
       " 'len',\n",
       " 'license',\n",
       " 'list',\n",
       " 'locals',\n",
       " 'map',\n",
       " 'max',\n",
       " 'memoryview',\n",
       " 'min',\n",
       " 'next',\n",
       " 'object',\n",
       " 'oct',\n",
       " 'open',\n",
       " 'ord',\n",
       " 'pow',\n",
       " 'print',\n",
       " 'property',\n",
       " 'range',\n",
       " 'repr',\n",
       " 'reversed',\n",
       " 'round',\n",
       " 'runfile',\n",
       " 'set',\n",
       " 'setattr',\n",
       " 'slice',\n",
       " 'sorted',\n",
       " 'staticmethod',\n",
       " 'str',\n",
       " 'sum',\n",
       " 'super',\n",
       " 'tuple',\n",
       " 'type',\n",
       " 'vars',\n",
       " 'zip']"
      ]
     },
     "execution_count": 65,
     "metadata": {},
     "output_type": "execute_result"
    }
   ],
   "source": [
    "dir(builtins)#todas las opciones  que estan listas para usarse"
   ]
  },
  {
   "cell_type": "markdown",
   "id": "1f90177a",
   "metadata": {},
   "source": [
    "## Funcion type()"
   ]
  },
  {
   "cell_type": "code",
   "execution_count": 66,
   "id": "7317d8ef",
   "metadata": {},
   "outputs": [
    {
     "name": "stdout",
     "output_type": "stream",
     "text": [
      "570\n"
     ]
    }
   ],
   "source": [
    "my_number = 570\n",
    "print (my_number)"
   ]
  },
  {
   "cell_type": "code",
   "execution_count": 95,
   "id": "d7b85084",
   "metadata": {},
   "outputs": [
    {
     "name": "stdout",
     "output_type": "stream",
     "text": [
      "570\n",
      "<class 'int'>\n"
     ]
    }
   ],
   "source": [
    "# Entero / int\n",
    "my_number = 570\n",
    "print (my_number)\n",
    "print (type(my_number))"
   ]
  },
  {
   "cell_type": "code",
   "execution_count": 68,
   "id": "3b20ab22",
   "metadata": {},
   "outputs": [
    {
     "name": "stdout",
     "output_type": "stream",
     "text": [
      "backend Python\n",
      "<class 'str'>\n"
     ]
    }
   ],
   "source": [
    "# Cadenas / String\n",
    "my_number = \"backend Python\"\n",
    "print (my_number)\n",
    "print (type(my_number))"
   ]
  },
  {
   "cell_type": "code",
   "execution_count": 69,
   "id": "3da39d1f",
   "metadata": {},
   "outputs": [
    {
     "name": "stdout",
     "output_type": "stream",
     "text": [
      "3.97\n",
      "<class 'float'>\n"
     ]
    }
   ],
   "source": [
    "# flotantes / float\n",
    "my_number = 3.97\n",
    "print (my_number)\n",
    "print (type(my_number))"
   ]
  },
  {
   "cell_type": "code",
   "execution_count": 71,
   "id": "a47e852e",
   "metadata": {},
   "outputs": [
    {
     "name": "stdout",
     "output_type": "stream",
     "text": [
      "\n",
      "<class 'str'>\n"
     ]
    }
   ],
   "source": [
    "# cadenas / string\n",
    "my_number = \"\"\n",
    "print (my_number)\n",
    "print (type(my_number))"
   ]
  },
  {
   "cell_type": "code",
   "execution_count": 73,
   "id": "219ff08a",
   "metadata": {},
   "outputs": [
    {
     "name": "stdout",
     "output_type": "stream",
     "text": [
      "True\n",
      "<class 'bool'>\n"
     ]
    }
   ],
   "source": [
    "# Boolean\n",
    "my_boolean = True\n",
    "print (my_boolean)\n",
    "print (type(my_boolean))"
   ]
  },
  {
   "cell_type": "code",
   "execution_count": 74,
   "id": "37d450f7",
   "metadata": {},
   "outputs": [
    {
     "name": "stdout",
     "output_type": "stream",
     "text": [
      "False\n",
      "<class 'bool'>\n"
     ]
    }
   ],
   "source": [
    "# Boolean\n",
    "my_boolean = False\n",
    "print (my_boolean)\n",
    "print (type(my_boolean))"
   ]
  },
  {
   "cell_type": "code",
   "execution_count": 75,
   "id": "eddacdc2",
   "metadata": {},
   "outputs": [
    {
     "name": "stdout",
     "output_type": "stream",
     "text": [
      "True\n",
      "<class 'str'>\n"
     ]
    }
   ],
   "source": [
    "# Boolean deja de ser boleano y pasa a ser cadena si se usan comillas\n",
    "my_boolean = \"True\"\n",
    "print (my_boolean)\n",
    "print (type(my_boolean))"
   ]
  },
  {
   "cell_type": "code",
   "execution_count": 77,
   "id": "b118f663",
   "metadata": {},
   "outputs": [
    {
     "name": "stdout",
     "output_type": "stream",
     "text": [
      "[1, 7, 4, 2]\n",
      "<class 'list'>\n"
     ]
    }
   ],
   "source": [
    "# Listas / list\n",
    "my_list = [1,7,4,2]\n",
    "print (my_list)\n",
    "print (type(my_list))"
   ]
  },
  {
   "cell_type": "code",
   "execution_count": 78,
   "id": "1a75e05a",
   "metadata": {},
   "outputs": [
    {
     "name": "stdout",
     "output_type": "stream",
     "text": [
      "(3, 8, 2, 5)\n",
      "<class 'tuple'>\n"
     ]
    }
   ],
   "source": [
    "# Tuplas / tuple\n",
    "my_tuple = (3,8,2,5)\n",
    "print (my_tuple)\n",
    "print (type(my_tuple))"
   ]
  },
  {
   "cell_type": "code",
   "execution_count": 79,
   "id": "9ed81b66",
   "metadata": {},
   "outputs": [
    {
     "name": "stdout",
     "output_type": "stream",
     "text": [
      "{'Python', 1, 2.5, 4}\n",
      "<class 'set'>\n"
     ]
    }
   ],
   "source": [
    "# set\n",
    "my_set = {4,1,\"Python\",2.5}\n",
    "print (my_set)\n",
    "print (type(my_set))"
   ]
  },
  {
   "cell_type": "code",
   "execution_count": 80,
   "id": "72a82a9a",
   "metadata": {},
   "outputs": [
    {
     "name": "stdout",
     "output_type": "stream",
     "text": [
      "{'a': 20, 'b': 50, 'c': 35}\n",
      "<class 'dict'>\n"
     ]
    }
   ],
   "source": [
    "# diccionarios / dict\n",
    "my_dictionary = {\"a\":20, \"b\":50, \"c\":35}\n",
    "print (my_dictionary)\n",
    "print (type(my_dictionary))"
   ]
  },
  {
   "cell_type": "markdown",
   "id": "70a2e2d5",
   "metadata": {},
   "source": [
    "## Funcion id()"
   ]
  },
  {
   "cell_type": "markdown",
   "id": "2ea9307c",
   "metadata": {},
   "source": [
    "#### id() Funcion para obtener la direccion de memoria"
   ]
  },
  {
   "cell_type": "code",
   "execution_count": 82,
   "id": "a40abf30",
   "metadata": {},
   "outputs": [
    {
     "name": "stdout",
     "output_type": "stream",
     "text": [
      "Python\n",
      "<class 'str'>\n",
      "1511109969712\n"
     ]
    }
   ],
   "source": [
    "# Cadenas / String\n",
    "my_number = \"Python\"\n",
    "print (my_number)\n",
    "print (type(my_number))\n",
    "print (id(my_number))"
   ]
  },
  {
   "cell_type": "code",
   "execution_count": 84,
   "id": "a6e1ce2d",
   "metadata": {},
   "outputs": [
    {
     "name": "stdout",
     "output_type": "stream",
     "text": [
      "Backend\n",
      "<class 'str'>\n",
      "1511238508720\n"
     ]
    }
   ],
   "source": [
    "# Cadenas / String\n",
    "my_number2 = \"Backend\"\n",
    "print (my_number2)\n",
    "print (type(my_number2))\n",
    "print (id(my_number2))"
   ]
  },
  {
   "cell_type": "code",
   "execution_count": 85,
   "id": "31ff4817",
   "metadata": {},
   "outputs": [
    {
     "name": "stdout",
     "output_type": "stream",
     "text": [
      "Python\n",
      "<class 'str'>\n",
      "1511109969712\n"
     ]
    }
   ],
   "source": [
    "# Cadenas / String\n",
    "my_number3 = \"Python\"\n",
    "print (my_number3)\n",
    "print (type(my_number3))\n",
    "print (id(my_number3))"
   ]
  },
  {
   "cell_type": "markdown",
   "id": "dbd54885",
   "metadata": {},
   "source": [
    "## Multiples valores de entrada"
   ]
  },
  {
   "cell_type": "code",
   "execution_count": 86,
   "id": "221a3ea0",
   "metadata": {},
   "outputs": [
    {
     "name": "stdout",
     "output_type": "stream",
     "text": [
      "ingresa el valor de my_number: 670\n",
      "El valor de my_number es:  670\n"
     ]
    }
   ],
   "source": [
    "my_number = input(\"ingresa el valor de my_number: \")\n",
    "print(\"El valor de my_number es: \", my_number)"
   ]
  },
  {
   "cell_type": "code",
   "execution_count": 87,
   "id": "0a975fa0",
   "metadata": {},
   "outputs": [
    {
     "name": "stdout",
     "output_type": "stream",
     "text": [
      "ingresa los 3 valores: 100 200 300\n",
      "El valor de a es: 100\n",
      "El valor de b es: 200\n",
      "El valor de c es: 300\n"
     ]
    }
   ],
   "source": [
    "a,b,c = input(\"ingresa los 3 valores: \").split()\n",
    "print(\"El valor de a es:\", a)\n",
    "print(\"El valor de b es:\", b)\n",
    "print(\"El valor de c es:\", c)"
   ]
  },
  {
   "cell_type": "code",
   "execution_count": 89,
   "id": "b084b4a6",
   "metadata": {},
   "outputs": [
    {
     "name": "stdout",
     "output_type": "stream",
     "text": [
      "ingresa los 3 valores separados por comas: 500,600,700\n",
      "El valor de a es: 500\n",
      "El valor de b es: 600\n",
      "El valor de c es: 700\n"
     ]
    }
   ],
   "source": [
    "a,b,c = input(\"ingresa los 3 valores separados por comas: \").split(\",\")\n",
    "print(\"El valor de a es:\", a)\n",
    "print(\"El valor de b es:\", b)\n",
    "print(\"El valor de c es:\", c)"
   ]
  },
  {
   "cell_type": "code",
   "execution_count": 90,
   "id": "cf6fb3fb",
   "metadata": {},
   "outputs": [
    {
     "name": "stdout",
     "output_type": "stream",
     "text": [
      "Help on built-in function eval in module builtins:\n",
      "\n",
      "eval(source, globals=None, locals=None, /)\n",
      "    Evaluate the given source in the context of globals and locals.\n",
      "    \n",
      "    The source may be a string representing a Python expression\n",
      "    or a code object as returned by compile().\n",
      "    The globals must be a dictionary and locals can be any mapping,\n",
      "    defaulting to the current globals and locals.\n",
      "    If only globals is given, locals defaults to it.\n",
      "\n"
     ]
    }
   ],
   "source": [
    "help(eval)"
   ]
  },
  {
   "cell_type": "code",
   "execution_count": 92,
   "id": "634c214a",
   "metadata": {},
   "outputs": [
    {
     "name": "stdout",
     "output_type": "stream",
     "text": [
      "Help on class type in module builtins:\n",
      "\n",
      "class type(object)\n",
      " |  type(object) -> the object's type\n",
      " |  type(name, bases, dict, **kwds) -> a new type\n",
      " |  \n",
      " |  Methods defined here:\n",
      " |  \n",
      " |  __call__(self, /, *args, **kwargs)\n",
      " |      Call self as a function.\n",
      " |  \n",
      " |  __delattr__(self, name, /)\n",
      " |      Implement delattr(self, name).\n",
      " |  \n",
      " |  __dir__(self, /)\n",
      " |      Specialized __dir__ implementation for types.\n",
      " |  \n",
      " |  __getattribute__(self, name, /)\n",
      " |      Return getattr(self, name).\n",
      " |  \n",
      " |  __init__(self, /, *args, **kwargs)\n",
      " |      Initialize self.  See help(type(self)) for accurate signature.\n",
      " |  \n",
      " |  __instancecheck__(self, instance, /)\n",
      " |      Check if an object is an instance.\n",
      " |  \n",
      " |  __or__(self, value, /)\n",
      " |      Return self|value.\n",
      " |  \n",
      " |  __repr__(self, /)\n",
      " |      Return repr(self).\n",
      " |  \n",
      " |  __ror__(self, value, /)\n",
      " |      Return value|self.\n",
      " |  \n",
      " |  __setattr__(self, name, value, /)\n",
      " |      Implement setattr(self, name, value).\n",
      " |  \n",
      " |  __sizeof__(self, /)\n",
      " |      Return memory consumption of the type object.\n",
      " |  \n",
      " |  __subclasscheck__(self, subclass, /)\n",
      " |      Check if a class is a subclass.\n",
      " |  \n",
      " |  __subclasses__(self, /)\n",
      " |      Return a list of immediate subclasses.\n",
      " |  \n",
      " |  mro(self, /)\n",
      " |      Return a type's method resolution order.\n",
      " |  \n",
      " |  ----------------------------------------------------------------------\n",
      " |  Class methods defined here:\n",
      " |  \n",
      " |  __prepare__(...)\n",
      " |      __prepare__() -> dict\n",
      " |      used to create the namespace for the class statement\n",
      " |  \n",
      " |  ----------------------------------------------------------------------\n",
      " |  Static methods defined here:\n",
      " |  \n",
      " |  __new__(*args, **kwargs)\n",
      " |      Create and return a new object.  See help(type) for accurate signature.\n",
      " |  \n",
      " |  ----------------------------------------------------------------------\n",
      " |  Data descriptors defined here:\n",
      " |  \n",
      " |  __abstractmethods__\n",
      " |  \n",
      " |  __annotations__\n",
      " |  \n",
      " |  __dict__\n",
      " |  \n",
      " |  __text_signature__\n",
      " |  \n",
      " |  ----------------------------------------------------------------------\n",
      " |  Data and other attributes defined here:\n",
      " |  \n",
      " |  __base__ = <class 'object'>\n",
      " |      The base class of the class hierarchy.\n",
      " |      \n",
      " |      When called, it accepts no arguments and returns a new featureless\n",
      " |      instance that has no instance attributes and cannot be given any.\n",
      " |  \n",
      " |  \n",
      " |  __bases__ = (<class 'object'>,)\n",
      " |  \n",
      " |  __basicsize__ = 888\n",
      " |  \n",
      " |  __dictoffset__ = 264\n",
      " |  \n",
      " |  __flags__ = 2148031744\n",
      " |  \n",
      " |  __itemsize__ = 40\n",
      " |  \n",
      " |  __mro__ = (<class 'type'>, <class 'object'>)\n",
      " |  \n",
      " |  __weakrefoffset__ = 368\n",
      "\n"
     ]
    }
   ],
   "source": [
    "help(type)"
   ]
  },
  {
   "cell_type": "code",
   "execution_count": null,
   "id": "69409123",
   "metadata": {},
   "outputs": [],
   "source": []
  }
 ],
 "metadata": {
  "kernelspec": {
   "display_name": "Python 3 (ipykernel)",
   "language": "python",
   "name": "python3"
  },
  "language_info": {
   "codemirror_mode": {
    "name": "ipython",
    "version": 3
   },
   "file_extension": ".py",
   "mimetype": "text/x-python",
   "name": "python",
   "nbconvert_exporter": "python",
   "pygments_lexer": "ipython3",
   "version": "3.10.9"
  }
 },
 "nbformat": 4,
 "nbformat_minor": 5
}
