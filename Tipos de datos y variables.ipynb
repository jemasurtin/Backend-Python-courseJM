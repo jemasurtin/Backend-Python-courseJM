{
 "cells": [
  {
   "cell_type": "markdown",
   "id": "a7262dfc",
   "metadata": {},
   "source": [
    "# Panorama\n",
    "\n",
    "int - Integer/Entero\n",
    "\n",
    "float - float/Numeros con decimales\n",
    "\n",
    "complex - complex/ Tipos de datos complejos (Numeros con una parte real y una imaginaria)\n",
    "\n",
    "bool- Boolean/Valores Logicos (True o False)\n",
    "\n",
    "str- Strings/cadenas, textos"
   ]
  },
  {
   "cell_type": "markdown",
   "id": "8078c522",
   "metadata": {},
   "source": [
    "# int - Integer/Enteros"
   ]
  },
  {
   "cell_type": "code",
   "execution_count": 1,
   "id": "3965f703",
   "metadata": {},
   "outputs": [
    {
     "name": "stdout",
     "output_type": "stream",
     "text": [
      "el valor de mi entero es:  11\n",
      "el tipo de dato de mi entero es:  <class 'int'>\n"
     ]
    }
   ],
   "source": [
    "my_integer = 11\n",
    "print(\"el valor de mi entero es: \",my_integer)\n",
    "print(\"el tipo de dato de mi entero es: \",type(my_integer))"
   ]
  },
  {
   "cell_type": "code",
   "execution_count": 2,
   "id": "1ff3e352",
   "metadata": {},
   "outputs": [
    {
     "name": "stdout",
     "output_type": "stream",
     "text": [
      "el valor de mi entero es:  2023\n",
      "el tipo de dato de mi entero es:  <class 'int'>\n"
     ]
    }
   ],
   "source": [
    "my_integer = 2023\n",
    "print(\"el valor de mi entero es: \",my_integer)\n",
    "print(\"el tipo de dato de mi entero es: \",type(my_integer))"
   ]
  },
  {
   "cell_type": "code",
   "execution_count": 3,
   "id": "a09360f9",
   "metadata": {},
   "outputs": [
    {
     "name": "stdout",
     "output_type": "stream",
     "text": [
      "el valor de mi entero es:  987654321\n",
      "el tipo de dato de mi entero es:  <class 'int'>\n"
     ]
    }
   ],
   "source": [
    "my_integer = 987654321\n",
    "print(\"el valor de mi entero es: \",my_integer)\n",
    "print(\"el tipo de dato de mi entero es: \",type(my_integer))"
   ]
  },
  {
   "cell_type": "code",
   "execution_count": 4,
   "id": "93cebb74",
   "metadata": {},
   "outputs": [
    {
     "ename": "SyntaxError",
     "evalue": "invalid decimal literal (1141669455.py, line 1)",
     "output_type": "error",
     "traceback": [
      "\u001b[1;36m  Cell \u001b[1;32mIn[4], line 1\u001b[1;36m\u001b[0m\n\u001b[1;33m    my_integer = 11d\u001b[0m\n\u001b[1;37m                  ^\u001b[0m\n\u001b[1;31mSyntaxError\u001b[0m\u001b[1;31m:\u001b[0m invalid decimal literal\n"
     ]
    }
   ],
   "source": [
    "#error\n",
    "my_integer = 11d\n",
    "print(\"el valor de mi entero es: \",my_integer)\n",
    "print(\"el tipo de dato de mi entero es: \",type(my_integer))"
   ]
  },
  {
   "cell_type": "code",
   "execution_count": 8,
   "id": "6f2073c2",
   "metadata": {},
   "outputs": [
    {
     "name": "stdout",
     "output_type": "stream",
     "text": [
      "El valor de my_float es:  2000.0\n",
      "El tipo de dato de my_float es:  <class 'float'>\n"
     ]
    }
   ],
   "source": [
    "#notacion cientifica\n",
    "my_float = 2e3\n",
    "print(\"El valor de my_float es: \", my_float)\n",
    "print(\"El tipo de dato de my_float es: \", type(my_float))\n"
   ]
  },
  {
   "cell_type": "code",
   "execution_count": 9,
   "id": "5031c4a5",
   "metadata": {},
   "outputs": [
    {
     "name": "stdout",
     "output_type": "stream",
     "text": [
      "El valor de my_float es:  0.002\n",
      "El tipo de dato de my_float es:  <class 'float'>\n"
     ]
    }
   ],
   "source": [
    "#notacion cientifica\n",
    "my_float = 2e-3\n",
    "print(\"El valor de my_float es: \", my_float)\n",
    "print(\"El tipo de dato de my_float es: \", type(my_float))\n"
   ]
  },
  {
   "cell_type": "markdown",
   "id": "adae748e",
   "metadata": {},
   "source": [
    "# Complex - numeros complejos con una parte real y una imaginaria\n",
    "complex = x + yj\n",
    "\n",
    "x = parte real\n",
    "\n",
    "j = parte imaginaria"
   ]
  },
  {
   "cell_type": "code",
   "execution_count": 10,
   "id": "f6df0165",
   "metadata": {},
   "outputs": [
    {
     "name": "stdout",
     "output_type": "stream",
     "text": [
      "El valor de my_complex es:  (3+9j)\n",
      "El tipo de dato de my_complex es:  <class 'complex'>\n"
     ]
    }
   ],
   "source": [
    "my_complex = 3 + 9j\n",
    "print(\"El valor de my_complex es: \", my_complex)\n",
    "print(\"El tipo de dato de my_complex es: \", type(my_complex))"
   ]
  },
  {
   "cell_type": "code",
   "execution_count": 11,
   "id": "bc08bb04",
   "metadata": {},
   "outputs": [
    {
     "name": "stdout",
     "output_type": "stream",
     "text": [
      "El valor de my_complex es:  (2+5j)\n",
      "El tipo de dato de my_complex es:  <class 'complex'>\n"
     ]
    }
   ],
   "source": [
    "my_complex = 2 + 5j\n",
    "print(\"El valor de my_complex es: \", my_complex)\n",
    "print(\"El tipo de dato de my_complex es: \", type(my_complex))"
   ]
  },
  {
   "cell_type": "markdown",
   "id": "a5190bc8",
   "metadata": {},
   "source": [
    "# bool- Boolean/Valores Logicos (True o False)"
   ]
  },
  {
   "cell_type": "code",
   "execution_count": 12,
   "id": "17679683",
   "metadata": {},
   "outputs": [
    {
     "name": "stdout",
     "output_type": "stream",
     "text": [
      "El valor de my_complex es:  False\n",
      "El tipo de dato de my_complex es:  <class 'bool'>\n"
     ]
    }
   ],
   "source": [
    "my_boolean = False\n",
    "print(\"El valor de my_complex es: \", my_boolean)\n",
    "print(\"El tipo de dato de my_complex es: \", type(my_boolean))"
   ]
  },
  {
   "cell_type": "code",
   "execution_count": 29,
   "id": "235278ec",
   "metadata": {},
   "outputs": [
    {
     "name": "stdout",
     "output_type": "stream",
     "text": [
      "El valor de my_complex es:  True\n",
      "El tipo de dato de my_complex es:  <class 'bool'>\n"
     ]
    }
   ],
   "source": [
    "my_boolean = True\n",
    "print(\"El valor de my_complex es: \", my_boolean)\n",
    "print(\"El tipo de dato de my_complex es: \", type(my_boolean))"
   ]
  },
  {
   "cell_type": "code",
   "execution_count": 15,
   "id": "233dec06",
   "metadata": {},
   "outputs": [],
   "source": [
    "# True = 1\n",
    "#False = 0"
   ]
  },
  {
   "cell_type": "code",
   "execution_count": 16,
   "id": "db389abc",
   "metadata": {},
   "outputs": [
    {
     "name": "stdout",
     "output_type": "stream",
     "text": [
      "3\n"
     ]
    }
   ],
   "source": [
    "print(True+True+True)"
   ]
  },
  {
   "cell_type": "markdown",
   "id": "7858a9ad",
   "metadata": {},
   "source": [
    "# str- Strings/cadenas, textos"
   ]
  },
  {
   "cell_type": "code",
   "execution_count": 17,
   "id": "7a2dfd27",
   "metadata": {},
   "outputs": [
    {
     "name": "stdout",
     "output_type": "stream",
     "text": [
      "El valor de my_complex es:  Backend Python\n",
      "El tipo de dato de my_complex es:  <class 'str'>\n"
     ]
    }
   ],
   "source": [
    "my_string = \"Backend Python\"\n",
    "print(\"El valor de my_complex es: \", my_string)\n",
    "print(\"El tipo de dato de my_complex es: \", type(my_string))"
   ]
  },
  {
   "cell_type": "code",
   "execution_count": 18,
   "id": "ca6f09cc",
   "metadata": {},
   "outputs": [
    {
     "name": "stdout",
     "output_type": "stream",
     "text": [
      "c\n"
     ]
    }
   ],
   "source": [
    "print(my_string[2])"
   ]
  },
  {
   "cell_type": "code",
   "execution_count": 19,
   "id": "840e4a15",
   "metadata": {},
   "outputs": [
    {
     "name": "stdout",
     "output_type": "stream",
     "text": [
      "El valor de my_complex es:  \n",
      "Es una cadena con multiples lineas\n",
      "\n",
      "como puedes ver es genial para textos mas largos\n",
      "\n",
      "puedes imaginar cuantas cosas podrias hacer manejando textos de internet?\n",
      "\n",
      "El tipo de dato de my_complex es:  <class 'str'>\n"
     ]
    }
   ],
   "source": [
    "my_string = \"\"\"\n",
    "Es una cadena con multiples lineas\\n\n",
    "como puedes ver es genial para textos mas largos\\n\n",
    "puedes imaginar cuantas cosas podrias hacer manejando textos de internet?\n",
    "\"\"\"\n",
    "print(\"El valor de my_complex es: \", my_string)\n",
    "print(\"El tipo de dato de my_complex es: \", type(my_string))"
   ]
  },
  {
   "cell_type": "markdown",
   "id": "21d765a6",
   "metadata": {},
   "source": [
    "# Variables\n",
    "### que es una variable?\n",
    "-Son un espacio temporal para guardar un valor con un nombre especifico.\n",
    "\n",
    "-no hay necesidad de declarar el tipo de dato explicitamente\n",
    "\n",
    "-python es un lenguaje tipado dinamicamente, lo que quiere decir que el tipo de dato se define mientras corre el programa.\n",
    "\n",
    "-las variables en python funcionan diferente que en otros lenguajes de programacion.\n",
    "\n",
    "-No necesitamos crear variables, solo asignamos un nombre a un valor usando el operador de asignacion \"=\"\n",
    "### Tipos de variables\n",
    "-Variables Globales: aquellas que se ttilizan para todo el programa\n",
    "\n",
    "-Variables Locales: son las que se van a utilizar en solo un bloque especifico?"
   ]
  },
  {
   "cell_type": "markdown",
   "id": "b07c648f",
   "metadata": {},
   "source": [
    "# Variables Globales\n",
    "-Declaramos variables globales afuera de funciones\n",
    "\n",
    "-El valor de la variable puede ser constante para todo el programa\n",
    "\n",
    "-cualquier funcion podra acceder a estas variables\n",
    "\n",
    "-podemos decir que las variables globales tienen alcance princiaplemnte grlobal\n",
    "normalmente son mas usadas para constantes\n",
    "\n",
    "-Las variables globales mantienen sus valores a traves de la ejecucion completa de tu programa.\n",
    "\n",
    "-Una variable Global puede ser accesada por cualquier funcion"
   ]
  },
  {
   "cell_type": "code",
   "execution_count": 39,
   "id": "a61dcc75",
   "metadata": {},
   "outputs": [],
   "source": [
    "#Variable Global\n",
    "my_global_variable = 50\n",
    "\n",
    "def my_function_1():\n",
    "    pass\n",
    "\n",
    "def my_function_2():\n",
    "    pass"
   ]
  },
  {
   "cell_type": "code",
   "execution_count": 40,
   "id": "f45d3e72",
   "metadata": {},
   "outputs": [],
   "source": [
    "def my_function_1():\n",
    "    my_local_variable=5\n",
    "\n",
    "def my_function_2():\n",
    "    my_local_variable=35"
   ]
  },
  {
   "cell_type": "code",
   "execution_count": 48,
   "id": "8de1ab43",
   "metadata": {},
   "outputs": [],
   "source": [
    "# Preferencia al valor local, y despues al global\n",
    "my_variable = 50\n",
    "\n",
    "def my_function_1():\n",
    "    my_variable = 10 #Local\n",
    "    print(\"my_function_1 - El valor de my_variable es: \", my_variable)\n",
    "\n",
    "def my_function_2():\n",
    "    my_variable = 20 #Local\n",
    "    print(\"my_function_2 - El valor de my_variable es: \", my_variable)\n",
    "    \n",
    "def my_function_3():\n",
    "    print(\"my_function_2 - El valor de my_variable es: \", my_variable)"
   ]
  },
  {
   "cell_type": "code",
   "execution_count": 49,
   "id": "b4cb89e6",
   "metadata": {},
   "outputs": [
    {
     "name": "stdout",
     "output_type": "stream",
     "text": [
      "my_function_1 - El valor de my_variable es:  10\n",
      "my_function_2 - El valor de my_variable es:  20\n",
      "my_function_2 - El valor de my_variable es:  50\n"
     ]
    }
   ],
   "source": [
    "my_function_1()\n",
    "my_function_2()\n",
    "my_function_3()"
   ]
  },
  {
   "cell_type": "markdown",
   "id": "09a77d5e",
   "metadata": {},
   "source": [
    "# Variables Locales\n",
    "-Podemos usarlas dentro de una funcion\n",
    "\n",
    "-Podemos tener una restriccion al acceder a una variable local desde otra funcion\n",
    "\n",
    "-No podemos usarlas durante todo el programa\n",
    "\n",
    "-El alcance y visibilidad se limita al interior de la funcion\n",
    "\n",
    "-Lo que dure la funcion sera lo que dure el alcance de nuestra variable"
   ]
  },
  {
   "cell_type": "code",
   "execution_count": null,
   "id": "0faee753",
   "metadata": {},
   "outputs": [],
   "source": [
    "#Variable Global\n",
    "my_global_variable = 50\n",
    "\n",
    "def my_function_1():\n",
    "    pass\n",
    "\n",
    "def my_function_2():\n",
    "    pass"
   ]
  },
  {
   "cell_type": "code",
   "execution_count": null,
   "id": "8640fe9c",
   "metadata": {},
   "outputs": [],
   "source": [
    "#variables locales\n",
    "def my_function_1():\n",
    "    my_local_variable=5\n",
    "\n",
    "def my_function_2():\n",
    "    my_local_variable=35"
   ]
  },
  {
   "cell_type": "code",
   "execution_count": 50,
   "id": "7c9f348d",
   "metadata": {},
   "outputs": [],
   "source": [
    "def my_function_1():\n",
    "    my_variable = 10 #Local\n",
    "    print(\"my_function_1 - El valor de my_variable es: \", my_variable)\n",
    "\n",
    "def my_function_2():\n",
    "    my_variable = 20 #Local\n",
    "    print(\"my_function_2 - El valor de my_variable es: \", my_variable)\n",
    "    \n",
    "def my_function_3():\n",
    "    print(\"my_function_2 - El valor de my_variable es: \", my_variable)"
   ]
  },
  {
   "cell_type": "code",
   "execution_count": 51,
   "id": "7d0e0cb6",
   "metadata": {},
   "outputs": [
    {
     "name": "stdout",
     "output_type": "stream",
     "text": [
      "my_function_1 - El valor de my_variable es:  10\n"
     ]
    }
   ],
   "source": [
    "my_function_1()"
   ]
  },
  {
   "cell_type": "code",
   "execution_count": 52,
   "id": "dca632e4",
   "metadata": {},
   "outputs": [
    {
     "name": "stdout",
     "output_type": "stream",
     "text": [
      "my_function_2 - El valor de my_variable es:  20\n"
     ]
    }
   ],
   "source": [
    "my_function_2()"
   ]
  },
  {
   "cell_type": "code",
   "execution_count": 53,
   "id": "2c77510c",
   "metadata": {},
   "outputs": [
    {
     "name": "stdout",
     "output_type": "stream",
     "text": [
      "my_function_2 - El valor de my_variable es:  50\n"
     ]
    }
   ],
   "source": [
    "my_function_3()"
   ]
  },
  {
   "cell_type": "markdown",
   "id": "5ab356da",
   "metadata": {},
   "source": [
    "# Palabra reservada \"global\""
   ]
  },
  {
   "cell_type": "code",
   "execution_count": 54,
   "id": "81e1e234",
   "metadata": {},
   "outputs": [],
   "source": [
    "def my_function_1():\n",
    "    my_variable = 10 #Local\n",
    "    print(\"my_function_1 - El valor de my_variable es: \", my_variable)\n",
    "\n",
    "def my_function_2():\n",
    "    global my_variable # por poner esta palabra convierte en global la variable\n",
    "    my_variable = 20 #Local\n",
    "    print(\"my_function_2 - El valor de my_variable es: \", my_variable)\n",
    "    \n",
    "def my_function_3():\n",
    "    print(\"my_function_2 - El valor de my_variable es: \", my_variable)"
   ]
  },
  {
   "cell_type": "code",
   "execution_count": 55,
   "id": "ed865faf",
   "metadata": {},
   "outputs": [
    {
     "name": "stdout",
     "output_type": "stream",
     "text": [
      "my_function_1 - El valor de my_variable es:  10\n"
     ]
    }
   ],
   "source": [
    "my_function_1()"
   ]
  },
  {
   "cell_type": "code",
   "execution_count": 56,
   "id": "25d2c17f",
   "metadata": {},
   "outputs": [
    {
     "name": "stdout",
     "output_type": "stream",
     "text": [
      "my_function_2 - El valor de my_variable es:  20\n"
     ]
    }
   ],
   "source": [
    "my_function_2()"
   ]
  },
  {
   "cell_type": "code",
   "execution_count": 57,
   "id": "1fb0d76b",
   "metadata": {},
   "outputs": [
    {
     "name": "stdout",
     "output_type": "stream",
     "text": [
      "my_function_2 - El valor de my_variable es:  20\n"
     ]
    }
   ],
   "source": [
    "my_function_3()"
   ]
  },
  {
   "cell_type": "code",
   "execution_count": 58,
   "id": "6784999b",
   "metadata": {},
   "outputs": [],
   "source": [
    "def my_function_1():\n",
    "    my_variable = 10 #Local\n",
    "    print(\"my_function_1 - El valor de my_variable es: \", my_variable)\n",
    "\n",
    "def my_function_2():\n",
    "    global a, b, c, d, e\n",
    "    a=10\n",
    "    b=20\n",
    "    c=30\n",
    "    d=40\n",
    "    e=50\n",
    "    my_variable = 20 #Local\n",
    "    print(\"my_function_2 - El valor de a es: \", a)\n",
    "    print(\"my_function_2 - El valor de a es: \", b)\n",
    "    print(\"my_function_2 - El valor de a es: \", c)\n",
    "    print(\"my_function_2 - El valor de a es: \", d)\n",
    "    print(\"my_function_2 - El valor de a es: \", e)\n",
    "    \n",
    "def my_function_3():\n",
    "    print(\"my_function_2 - El valor de a es: \", a)\n",
    "    print(\"my_function_2 - El valor de a es: \", b)\n",
    "    print(\"my_function_2 - El valor de a es: \", c)\n",
    "    print(\"my_function_2 - El valor de a es: \", d)\n",
    "    print(\"my_function_2 - El valor de a es: \", e)"
   ]
  },
  {
   "cell_type": "code",
   "execution_count": 59,
   "id": "c2030023",
   "metadata": {},
   "outputs": [
    {
     "name": "stdout",
     "output_type": "stream",
     "text": [
      "my_function_2 - El valor de a es:  10\n",
      "my_function_2 - El valor de a es:  20\n",
      "my_function_2 - El valor de a es:  30\n",
      "my_function_2 - El valor de a es:  40\n",
      "my_function_2 - El valor de a es:  50\n"
     ]
    }
   ],
   "source": [
    "my_function_2()"
   ]
  },
  {
   "cell_type": "code",
   "execution_count": 60,
   "id": "903d21ac",
   "metadata": {},
   "outputs": [
    {
     "name": "stdout",
     "output_type": "stream",
     "text": [
      "my_function_2 - El valor de a es:  10\n",
      "my_function_2 - El valor de a es:  20\n",
      "my_function_2 - El valor de a es:  30\n",
      "my_function_2 - El valor de a es:  40\n",
      "my_function_2 - El valor de a es:  50\n"
     ]
    }
   ],
   "source": [
    "my_function_3()"
   ]
  },
  {
   "cell_type": "markdown",
   "id": "558ed859",
   "metadata": {},
   "source": [
    "# Tipos de Enteros\n",
    "-Forma decimal\n",
    "\n",
    "-Forma Binaria\n",
    "\n",
    "-Forma Octal\n",
    "\n",
    "-Forma Hexadecimal"
   ]
  },
  {
   "cell_type": "code",
   "execution_count": 61,
   "id": "53ccb0b3",
   "metadata": {},
   "outputs": [
    {
     "name": "stdout",
     "output_type": "stream",
     "text": [
      "el valor de my_decimal_number es:  55\n"
     ]
    }
   ],
   "source": [
    "my_decimal_number = 55\n",
    "print(\"el valor de my_decimal_number es: \", my_decimal_number)"
   ]
  },
  {
   "cell_type": "code",
   "execution_count": 62,
   "id": "378915a1",
   "metadata": {},
   "outputs": [
    {
     "name": "stdout",
     "output_type": "stream",
     "text": [
      "el valor de my_decimal_number es:  1111111111111\n"
     ]
    }
   ],
   "source": [
    "my_decimal_number = 1111111111111\n",
    "print(\"el valor de my_decimal_number es: \", my_decimal_number)"
   ]
  },
  {
   "cell_type": "code",
   "execution_count": 63,
   "id": "b196cc4e",
   "metadata": {},
   "outputs": [
    {
     "ename": "SyntaxError",
     "evalue": "invalid decimal literal (1374570990.py, line 1)",
     "output_type": "error",
     "traceback": [
      "\u001b[1;36m  Cell \u001b[1;32mIn[63], line 1\u001b[1;36m\u001b[0m\n\u001b[1;33m    my_decimal_number = 55d\u001b[0m\n\u001b[1;37m                         ^\u001b[0m\n\u001b[1;31mSyntaxError\u001b[0m\u001b[1;31m:\u001b[0m invalid decimal literal\n"
     ]
    }
   ],
   "source": [
    "my_decimal_number = 55d\n",
    "print(\"el valor de my_decimal_number es: \", my_decimal_number)"
   ]
  },
  {
   "cell_type": "code",
   "execution_count": 67,
   "id": "cd3f0f45",
   "metadata": {},
   "outputs": [
    {
     "ename": "SyntaxError",
     "evalue": "invalid syntax (70102552.py, line 1)",
     "output_type": "error",
     "traceback": [
      "\u001b[1;36m  Cell \u001b[1;32mIn[67], line 1\u001b[1;36m\u001b[0m\n\u001b[1;33m    my_decimal_number = 55@\u001b[0m\n\u001b[1;37m                           ^\u001b[0m\n\u001b[1;31mSyntaxError\u001b[0m\u001b[1;31m:\u001b[0m invalid syntax\n"
     ]
    }
   ],
   "source": [
    "my_decimal_number = 55@\n",
    "print(\"el valor de my_decimal_number es: \", my_decimal_number)"
   ]
  },
  {
   "cell_type": "markdown",
   "id": "8cf7dc45",
   "metadata": {},
   "source": [
    "# Forma Binaria\n",
    "-Codigo organizado en bitts\n",
    "\n",
    "-Lenguaje binario\n",
    "\n",
    "-Conocido como lenguaje de las maquinas\n",
    "\n",
    "-Prefijo '0b' o '0B'"
   ]
  },
  {
   "cell_type": "code",
   "execution_count": 65,
   "id": "8320a728",
   "metadata": {},
   "outputs": [
    {
     "name": "stdout",
     "output_type": "stream",
     "text": [
      "el valor de my_binary_number es:  3\n"
     ]
    }
   ],
   "source": [
    "my_binary_number = 0b11\n",
    "print(\"el valor de my_binary_number es: \", my_binary_number)"
   ]
  },
  {
   "cell_type": "code",
   "execution_count": 66,
   "id": "63babadd",
   "metadata": {},
   "outputs": [
    {
     "name": "stdout",
     "output_type": "stream",
     "text": [
      "el valor de my_binary_number es:  7\n"
     ]
    }
   ],
   "source": [
    "my_binary_number = 0B111\n",
    "print(\"el valor de my_binary_number es: \", my_binary_number)"
   ]
  },
  {
   "cell_type": "markdown",
   "id": "533eda4f",
   "metadata": {},
   "source": [
    "# Forma Octal\n",
    "-usa el pregijo \"0o\" o \"0O\""
   ]
  },
  {
   "cell_type": "code",
   "execution_count": 68,
   "id": "01999cb4",
   "metadata": {},
   "outputs": [
    {
     "name": "stdout",
     "output_type": "stream",
     "text": [
      "el valor de my_binary_number es:  15\n"
     ]
    }
   ],
   "source": [
    "my_binary_number = 0o17\n",
    "print(\"el valor de my_binary_number es: \", my_binary_number)"
   ]
  },
  {
   "cell_type": "code",
   "execution_count": 69,
   "id": "3e103173",
   "metadata": {},
   "outputs": [
    {
     "name": "stdout",
     "output_type": "stream",
     "text": [
      "el valor de my_binary_number es:  9\n"
     ]
    }
   ],
   "source": [
    "my_binary_number = 0O11\n",
    "print(\"el valor de my_binary_number es: \", my_binary_number)"
   ]
  },
  {
   "cell_type": "markdown",
   "id": "4dc686fa",
   "metadata": {},
   "source": [
    "# Forma Hexadecimal\n",
    "-usa el prefijoj \"0x\" o \"0X\""
   ]
  },
  {
   "cell_type": "code",
   "execution_count": 70,
   "id": "52364556",
   "metadata": {},
   "outputs": [
    {
     "name": "stdout",
     "output_type": "stream",
     "text": [
      "el valor de my_hex_number es:  23\n"
     ]
    }
   ],
   "source": [
    "my_hex_number = 0x17\n",
    "print(\"el valor de my_hex_number es: \", my_hex_number)"
   ]
  },
  {
   "cell_type": "code",
   "execution_count": 71,
   "id": "c85655e3",
   "metadata": {},
   "outputs": [
    {
     "name": "stdout",
     "output_type": "stream",
     "text": [
      "el valor de my_hex_number es:  3831\n"
     ]
    }
   ],
   "source": [
    "my_hex_number = 0xEF7\n",
    "print(\"el valor de my_hex_number es: \", my_hex_number)"
   ]
  },
  {
   "cell_type": "code",
   "execution_count": null,
   "id": "c5a3373e",
   "metadata": {},
   "outputs": [],
   "source": []
  }
 ],
 "metadata": {
  "kernelspec": {
   "display_name": "Python 3 (ipykernel)",
   "language": "python",
   "name": "python3"
  },
  "language_info": {
   "codemirror_mode": {
    "name": "ipython",
    "version": 3
   },
   "file_extension": ".py",
   "mimetype": "text/x-python",
   "name": "python",
   "nbconvert_exporter": "python",
   "pygments_lexer": "ipython3",
   "version": "3.10.9"
  }
 },
 "nbformat": 4,
 "nbformat_minor": 5
}
