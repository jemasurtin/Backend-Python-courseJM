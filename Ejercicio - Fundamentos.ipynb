{
 "cells": [
  {
   "cell_type": "markdown",
   "id": "d7831b8a",
   "metadata": {},
   "source": [
    "# Ejercicio Modulo 2"
   ]
  },
  {
   "cell_type": "code",
   "execution_count": 43,
   "id": "f4cc05aa",
   "metadata": {},
   "outputs": [
    {
     "name": "stdout",
     "output_type": "stream",
     "text": [
      "Favor de ingresar un numero entero y presiona enter:100\n",
      "<class 'int'>\n",
      "Favor de ingresar un numero flotante y presiona enter1.123\n",
      "<class 'float'>\n",
      "Favor de ingresar una cadena de texto y presiona enter500\n",
      "<class 'str'>\n",
      "\n",
      "el valor del entero es: \t 100 \n",
      "su tipo de dato es:  \t\t <class 'type'> \n",
      "\n",
      "el valor del float es:  \t 1.123 \n",
      "su tipo de dato es:  \t\t <class 'float'> \n",
      "\n",
      "el valor del float es:  \t 500 \n",
      "su tipo de dato es:  \t\t <class 'str'>\n"
     ]
    }
   ],
   "source": [
    "my_int = eval(input(\"Favor de ingresar un numero entero y presiona enter:\"))\n",
    "print(type(my_int))\n",
    "my_float = eval(input(\"Favor de ingresar un numero flotante y presiona enter\"))\n",
    "print(type(my_float))\n",
    "my_string = input(\"Favor de ingresar una cadena de texto y presiona enter\")\n",
    "print(type(my_string))\n",
    "\n",
    "print(\"\\nel valor del entero es:\", \"\\t\",my_int, \"\\nsu tipo de dato es: \", \"\\t\\t\", type(datatype1),\n",
    "      \"\\n\\nel valor del float es: \",\"\\t\",my_float,\"\\nsu tipo de dato es: \",\"\\t\\t\",type(my_float),\n",
    "     \"\\n\\nel valor del float es: \",\"\\t\",my_string,\"\\nsu tipo de dato es: \",\"\\t\\t\",type(my_string))\n"
   ]
  },
  {
   "cell_type": "code",
   "execution_count": null,
   "id": "e8666918",
   "metadata": {},
   "outputs": [],
   "source": []
  }
 ],
 "metadata": {
  "kernelspec": {
   "display_name": "Python 3 (ipykernel)",
   "language": "python",
   "name": "python3"
  },
  "language_info": {
   "codemirror_mode": {
    "name": "ipython",
    "version": 3
   },
   "file_extension": ".py",
   "mimetype": "text/x-python",
   "name": "python",
   "nbconvert_exporter": "python",
   "pygments_lexer": "ipython3",
   "version": "3.10.9"
  }
 },
 "nbformat": 4,
 "nbformat_minor": 5
}
