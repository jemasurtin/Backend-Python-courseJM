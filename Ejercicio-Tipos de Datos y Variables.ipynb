{
 "cells": [
  {
   "cell_type": "markdown",
   "id": "a55d6cb1",
   "metadata": {},
   "source": [
    "# Ejercicio –Tipos de Datos y Variables\n",
    "\n",
    "## Modulo 3"
   ]
  },
  {
   "cell_type": "code",
   "execution_count": 1,
   "id": "b21d69b3",
   "metadata": {},
   "outputs": [],
   "source": [
    "\n",
    "def suma():\n",
    "    my_inputs()\n",
    "    global res\n",
    "    global operacion\n",
    "    res = a+b\n",
    "    operacion=\"sumar\"\n",
    "    my_operation()\n",
    "\n",
    "def resta():\n",
    "    my_inputs()\n",
    "    global res\n",
    "    global operacion\n",
    "    res = a-b\n",
    "    operacion=\"restar\"\n",
    "    my_operation()\n",
    "    \n",
    "def division():\n",
    "    my_inputs()\n",
    "    global res\n",
    "    global operacion\n",
    "    res = a/b\n",
    "    operacion=\"dividir\"\n",
    "    my_operation()\n",
    "    \n",
    "def multiplicacion():\n",
    "    my_inputs()\n",
    "    global res\n",
    "    global operacion\n",
    "    res = a*b\n",
    "    operacion=\"multiplicar\"\n",
    "    my_operation()\n",
    "    \n",
    "def exponencial():\n",
    "    my_inputs()\n",
    "    res_exp = a**b\n",
    "    print(\"- El valor de\",a,\" elevado a \",b,\"es: \", res_exp)\n",
    "    \n",
    "def my_inputs():\n",
    "    global a\n",
    "    global b\n",
    "    a=eval(input(\"Ingrese el primer número: \"))\n",
    "    b=eval(input(\"Ingrese el primer número: \"))\n",
    "def my_operation():\n",
    "    print(\"- El resultado de\",operacion,\" \", a,\" y \",b,\"es: \", res)\n",
    "    "
   ]
  },
  {
   "cell_type": "code",
   "execution_count": 2,
   "id": "089b97bf",
   "metadata": {},
   "outputs": [],
   "source": [
    "def my_jmm():\n",
    "    print(\"Por favor ingresa la operacion a realizar\")\n",
    "    print(\"suma\\nresta\\ndivision\\nmultiplicacion\\nexponencial\")\n",
    "    my_input = input(\"ingresa operacion:\")\n",
    "    operation = eval(my_input)\n",
    "    operation()"
   ]
  },
  {
   "cell_type": "code",
   "execution_count": 4,
   "id": "47e737b6",
   "metadata": {},
   "outputs": [
    {
     "name": "stdout",
     "output_type": "stream",
     "text": [
      "Por favor ingresa la operacion a realizar\n",
      "suma\n",
      "resta\n",
      "division\n",
      "multiplicacion\n",
      "exponencial\n",
      "ingresa operacion:suma\n",
      "Ingrese el primer número: 0b101\n",
      "Ingrese el primer número: 0b10\n",
      "- El resultado de sumar   5  y  2 es:  7\n"
     ]
    }
   ],
   "source": [
    "my_jmm()"
   ]
  },
  {
   "cell_type": "code",
   "execution_count": 5,
   "id": "4dee94a0",
   "metadata": {},
   "outputs": [
    {
     "name": "stdout",
     "output_type": "stream",
     "text": [
      "Por favor ingresa la operacion a realizar\n",
      "suma\n",
      "resta\n",
      "division\n",
      "multiplicacion\n",
      "exponencial\n",
      "ingresa operacion:resta\n",
      "Ingrese el primer número: 0o15\n",
      "Ingrese el primer número: 0o10\n",
      "- El resultado de restar   13  y  8 es:  5\n"
     ]
    }
   ],
   "source": [
    "my_jmm()"
   ]
  },
  {
   "cell_type": "code",
   "execution_count": 7,
   "id": "73903d6c",
   "metadata": {},
   "outputs": [
    {
     "name": "stdout",
     "output_type": "stream",
     "text": [
      "Por favor ingresa la operacion a realizar\n",
      "suma\n",
      "resta\n",
      "division\n",
      "multiplicacion\n",
      "exponencial\n",
      "ingresa operacion:division\n",
      "Ingrese el primer número: 0xf1\n",
      "Ingrese el primer número: 0x1b\n",
      "- El resultado de dividir   241  y  27 es:  8.925925925925926\n"
     ]
    }
   ],
   "source": [
    "my_jmm()"
   ]
  },
  {
   "cell_type": "code",
   "execution_count": 8,
   "id": "e91ae151",
   "metadata": {},
   "outputs": [
    {
     "name": "stdout",
     "output_type": "stream",
     "text": [
      "Por favor ingresa la operacion a realizar\n",
      "suma\n",
      "resta\n",
      "division\n",
      "multiplicacion\n",
      "exponencial\n",
      "ingresa operacion:multiplicacion\n",
      "Ingrese el primer número: 5\n",
      "Ingrese el primer número: 2\n",
      "- El resultado de multiplicar   5  y  2 es:  10\n"
     ]
    }
   ],
   "source": [
    "my_jmm()"
   ]
  },
  {
   "cell_type": "code",
   "execution_count": 10,
   "id": "450ddac1",
   "metadata": {},
   "outputs": [
    {
     "name": "stdout",
     "output_type": "stream",
     "text": [
      "Por favor ingresa la operacion a realizar\n",
      "suma\n",
      "resta\n",
      "division\n",
      "multiplicacion\n",
      "exponencial\n",
      "ingresa operacion:exponencial\n",
      "Ingrese el primer número: 5\n",
      "Ingrese el primer número: 3\n",
      "- El valor de 5  elevado a  3 es:  125\n"
     ]
    }
   ],
   "source": [
    "my_jmm()"
   ]
  },
  {
   "cell_type": "code",
   "execution_count": null,
   "id": "64b758b7",
   "metadata": {},
   "outputs": [],
   "source": []
  }
 ],
 "metadata": {
  "kernelspec": {
   "display_name": "Python 3 (ipykernel)",
   "language": "python",
   "name": "python3"
  },
  "language_info": {
   "codemirror_mode": {
    "name": "ipython",
    "version": 3
   },
   "file_extension": ".py",
   "mimetype": "text/x-python",
   "name": "python",
   "nbconvert_exporter": "python",
   "pygments_lexer": "ipython3",
   "version": "3.10.9"
  }
 },
 "nbformat": 4,
 "nbformat_minor": 5
}
